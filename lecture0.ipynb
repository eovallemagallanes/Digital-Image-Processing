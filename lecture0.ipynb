{
  "nbformat": 4,
  "nbformat_minor": 0,
  "metadata": {
    "colab": {
      "name": "lecture0.ipynb",
      "provenance": [],
      "authorship_tag": "ABX9TyNZsK3UgdqBNSvvHdwJbGez",
      "include_colab_link": true
    },
    "kernelspec": {
      "name": "python3",
      "display_name": "Python 3"
    },
    "language_info": {
      "name": "python"
    }
  },
  "cells": [
    {
      "cell_type": "markdown",
      "metadata": {
        "id": "view-in-github",
        "colab_type": "text"
      },
      "source": [
        "<a href=\"https://colab.research.google.com/github/eovallemagallanes/Digital-Image-Processing/blob/main/lecture0.ipynb\" target=\"_parent\"><img src=\"https://colab.research.google.com/assets/colab-badge.svg\" alt=\"Open In Colab\"/></a>"
      ]
    },
    {
      "cell_type": "markdown",
      "metadata": {
        "id": "jhDkwFO5mOit"
      },
      "source": [
        "# Image processing in Python"
      ]
    },
    {
      "cell_type": "markdown",
      "metadata": {
        "id": "nw8X76xJnN_h"
      },
      "source": [
        "## Python’s Mathematical Libraries\n",
        "\n",
        "* [NumPy](https://numpy.org/) (Numerical Python): \n",
        "\n",
        "---\n",
        "NumPy arrays are the equivalent to the basic array data structure in MATLAB. With NumPy arrays, you can do things like inner and outer products, transposition, and element-wise operations. NumPy also contains a number of useful methods for reading text and binary data files, fitting polynomial functions, many mathematical functions (sine, cosine, square root, and so on), and generating random numbers.\n",
        "\n",
        "\n",
        "* [SciPy](https://docs.scipy.org/doc/scipy/reference/) (Scientific Python):\n",
        "\n",
        "---\n",
        "The SciPy package (as distinct from the SciPy stack) is a library that provides a huge number of useful functions for scientific applications. If you need to do work that requires optimization, linear algebra or sparse linear algebra, discrete Fourier transforms, signal processing, physical constants, image processing, or numerical integration, then SciPy is the library for you! Since SciPy implements so many different features, it’s almost like having access to a bunch of the MATLAB toolboxes in one package.\n",
        "\n",
        "\n",
        "* [Matplotlib](https://matplotlib.org/) (MATLAB-like Plotting Library):\n",
        "\n",
        "---\n",
        "Matplotlib is a library to produce high-quality and interactive two-dimensional plots. Matplotlib is designed to provide a plotting interface that is similar to the plot() function in MATLAB, so people switching from MATLAB should find it somewhat familiar. Although the core functions in Matplotlib are for 2-D data plots, there are extensions available that allow plotting in three dimensions with the mplot3d package, plotting geographic data with cartopy, and many more listed in the Matplotlib documentation.\n",
        "\n",
        "* [Scikit-image](https://scikit-image.org/):\n",
        "\n",
        "---\n",
        "scikit-image is a Python package dedicated to image processing, and using natively NumPy arrays as image objects"
      ]
    },
    {
      "cell_type": "markdown",
      "metadata": {
        "id": "kaIP0wVspKW3"
      },
      "source": [
        "## Syntax Differences Between MATLAB® and Python\n",
        "\n",
        "* Comments Start With # in Python\n",
        "\n",
        "---\n",
        "```python\n",
        "# This is a comment\n",
        "```\n",
        "\n",
        "* Indentation \n",
        "\n",
        "---\n",
        "```matlab\n",
        "% Matlab code\n",
        "num = 10;\n",
        "\n",
        "if num == 10\n",
        "disp(\"num is equal to 10\")\n",
        "else\n",
        "disp(\"num is not equal to 10\")\n",
        "end\n",
        "\n",
        "disp(\"I am now outside the if block\")\n",
        "\n",
        "```\n",
        "\n"
      ]
    },
    {
      "cell_type": "code",
      "metadata": {
        "colab": {
          "base_uri": "https://localhost:8080/"
        },
        "id": "OI1hIQfwmMWO",
        "outputId": "1a62c24a-dbf9-4162-daf8-c6514aff1d8b"
      },
      "source": [
        "num = 10\n",
        "a = 0\n",
        "\n",
        "if num == 10:\n",
        "    print(\"num is equal to 10\")\n",
        "    a = 20\n",
        "    print(a)\n",
        "else:\n",
        "    print(\"num is not equal to 10\")\n",
        "    a = 30\n",
        "    print(a)\n",
        "\n",
        "a = 40\n",
        "print(a)\n",
        "print(\"I am now outside the if block\")"
      ],
      "execution_count": 1,
      "outputs": [
        {
          "output_type": "stream",
          "text": [
            "num is equal to 10\n",
            "20\n",
            "40\n",
            "I am now outside the if block\n"
          ],
          "name": "stdout"
        }
      ]
    },
    {
      "cell_type": "markdown",
      "metadata": {
        "id": "E1S5xQisqNkU"
      },
      "source": [
        "* Conditional statements\n",
        "\n",
        "---\n",
        "```matlab\n",
        "% Matlab code\n",
        "num = 10;\n",
        "if num == 10\n",
        "    disp(\"num is equal to 10\")\n",
        "elseif num == 20\n",
        "    disp(\"num is equal to 20\")\n",
        "else\n",
        "    disp(\"num is neither 10 nor 20\")\n",
        "end\n",
        "```"
      ]
    },
    {
      "cell_type": "code",
      "metadata": {
        "colab": {
          "base_uri": "https://localhost:8080/"
        },
        "id": "GIN3N0RLqerw",
        "outputId": "4e9423f8-100c-48a3-925f-1c4d80dcd8a4"
      },
      "source": [
        "num = 10\n",
        "if num == 10:\n",
        "    print(\"num is equal to 10\")\n",
        "elif num == 20:\n",
        "    print(\"num is equal to 20\")\n",
        "else:\n",
        "    print(\"num is neither 10 nor 20\")"
      ],
      "execution_count": 2,
      "outputs": [
        {
          "output_type": "stream",
          "text": [
            "num is equal to 10\n"
          ],
          "name": "stdout"
        }
      ]
    },
    {
      "cell_type": "markdown",
      "metadata": {
        "id": "S6FES2Amqk7Q"
      },
      "source": [
        "* Calling Functions and Indexing Sequences\n",
        "\n",
        "---\n",
        "```matlab\n",
        "% Matlab code\n",
        "arr = [10, 20, 30];\n",
        "arr(1)\n",
        "\n",
        "ans =\n",
        "\n",
        "    10\n",
        "\n",
        "sum(arr)\n",
        "\n",
        "ans =\n",
        "\n",
        "    60\n",
        "\n",
        "```"
      ]
    },
    {
      "cell_type": "code",
      "metadata": {
        "colab": {
          "base_uri": "https://localhost:8080/"
        },
        "id": "Z8alKLZkq0oz",
        "outputId": "1b150bca-5938-4438-a67a-05db80581b60"
      },
      "source": [
        "arr = [10, 20, 30]\n",
        "print(arr[0])\n",
        "\n",
        "\n",
        "sum(arr)"
      ],
      "execution_count": 4,
      "outputs": [
        {
          "output_type": "stream",
          "text": [
            "10\n"
          ],
          "name": "stdout"
        },
        {
          "output_type": "execute_result",
          "data": {
            "text/plain": [
              "60"
            ]
          },
          "metadata": {
            "tags": []
          },
          "execution_count": 4
        }
      ]
    },
    {
      "cell_type": "markdown",
      "metadata": {
        "id": "pYob-KhxrH40"
      },
      "source": [
        "* Indexing\n",
        "\n",
        "---\n",
        "```matlab\n",
        "% Matlab code\n",
        "arr = [10, 20, 30];\n",
        "arr(1)\n",
        "\n",
        "ans =\n",
        "\n",
        "    10\n",
        "\n",
        "arr(0)\n",
        "Array indices must be positive integers or logical values.\n",
        "\n",
        "\n",
        "arr(end)\n",
        "\n",
        "ans =\n",
        "\n",
        "    30\n",
        "```\n",
        "\n"
      ]
    },
    {
      "cell_type": "code",
      "metadata": {
        "colab": {
          "base_uri": "https://localhost:8080/"
        },
        "id": "a-t34_wprRW0",
        "outputId": "7357e9ed-c62e-45e1-9be8-5ef89ec27186"
      },
      "source": [
        "arr = [10, 20, 30]\n",
        "print(arr[0])\n",
        "print(arr[1])\n",
        "print(arr[-1])\n",
        "\n",
        "\n",
        "a_string = \"a string\"\n",
        "print(a_string[0])\n",
        "print(a_string[1])"
      ],
      "execution_count": 5,
      "outputs": [
        {
          "output_type": "stream",
          "text": [
            "10\n",
            "20\n",
            "30\n",
            "a\n",
            " \n"
          ],
          "name": "stdout"
        }
      ]
    },
    {
      "cell_type": "markdown",
      "metadata": {
        "id": "lRoMuh2ur0Rz"
      },
      "source": [
        "* Exponentiation\n",
        "\n",
        "---\n",
        "```matlab\n",
        "% Matlab code\n",
        "10^2\n",
        "\n",
        "ans =\n",
        "\n",
        "    100\n",
        "```\n"
      ]
    },
    {
      "cell_type": "code",
      "metadata": {
        "colab": {
          "base_uri": "https://localhost:8080/"
        },
        "id": "tQtHzuqesvhh",
        "outputId": "448c2b36-32db-4734-fdf3-a8f5f1d24bf9"
      },
      "source": [
        "10 ** 2"
      ],
      "execution_count": 6,
      "outputs": [
        {
          "output_type": "execute_result",
          "data": {
            "text/plain": [
              "100"
            ]
          },
          "metadata": {
            "tags": []
          },
          "execution_count": 6
        }
      ]
    },
    {
      "cell_type": "markdown",
      "metadata": {
        "id": "KIbxvVAMs0YZ"
      },
      "source": [
        "* The Length of a Sequence\n",
        "\n",
        "---\n",
        "```matlab\n",
        "% Matlab code\n",
        "length([10, 20, 30])\n",
        "\n",
        "ans =\n",
        "\n",
        "    3\n",
        "\n",
        "length(\"a string\")\n",
        "\n",
        "ans =\n",
        "\n",
        "    8\n",
        "```"
      ]
    },
    {
      "cell_type": "code",
      "metadata": {
        "colab": {
          "base_uri": "https://localhost:8080/"
        },
        "id": "XVkzXxOGtAyG",
        "outputId": "55ac1943-1a64-4007-9149-fbb6563f1509"
      },
      "source": [
        "print(len([10, 20, 30]))\n",
        "print(len(\"a string\"))"
      ],
      "execution_count": 7,
      "outputs": [
        {
          "output_type": "stream",
          "text": [
            "3\n",
            "8\n"
          ],
          "name": "stdout"
        }
      ]
    },
    {
      "cell_type": "markdown",
      "metadata": {
        "id": "3SRs0ZYItNNX"
      },
      "source": [
        "* Function Definitions\n",
        "\n",
        "---\n",
        "```matlab\n",
        "% Matlab code\n",
        "function [total] = addition(num_1,num_2)\n",
        "total = num_1 + num_2;\n",
        "end\n",
        "\n",
        "var_1 = 20;\n",
        "var_2 = 10;\n",
        "sum_of_vars = addition(var_1,var_2)\n",
        "\n",
        "sum_of_vars =\n",
        "\n",
        "    30\n",
        "```"
      ]
    },
    {
      "cell_type": "code",
      "metadata": {
        "colab": {
          "base_uri": "https://localhost:8080/"
        },
        "id": "K6mXSBGftbAS",
        "outputId": "3f586968-2416-43e9-e1ea-593d9b7d7bc8"
      },
      "source": [
        "def addition(num_1, num_2):\n",
        "    total = num_1 + num_2\n",
        "    return total\n",
        "\n",
        "var_1 = 20\n",
        "var_2 = 10\n",
        "sum_of_vars = addition(var_1, var_2)\n",
        "print(sum_of_vars)"
      ],
      "execution_count": 8,
      "outputs": [
        {
          "output_type": "stream",
          "text": [
            "30\n"
          ],
          "name": "stdout"
        }
      ]
    },
    {
      "cell_type": "markdown",
      "metadata": {
        "id": "jHkiD1krt59Y"
      },
      "source": [
        "* Anonymous Functions: \n",
        "\n",
        "---\n",
        "MATLAB uses the the at-symbol (@) to indicate that what follows is the definition of an anonymous function. Anonymous functions are functions that are not defined in a program file and do not use the function keyword.\n",
        "\n",
        "---\n",
        "```matlab\n",
        "% Matlab code\n",
        "f = @(X) 100*(X(2)-X(1).^2).^2+(1-X(1)).^2;\n",
        "\n",
        "X0=[2 2]'\n",
        "f(X0) = \n",
        "    401\n",
        "```"
      ]
    },
    {
      "cell_type": "code",
      "metadata": {
        "colab": {
          "base_uri": "https://localhost:8080/"
        },
        "id": "jou1Mh8Ou7l4",
        "outputId": "6f4e73d0-f7ce-4dca-b976-ea7600c2e4b1"
      },
      "source": [
        "f = lambda X: 100*(X[1]-X[0]**2)**2+(1-X[0])**2\n",
        "\n",
        "X0 = [2, 2]\n",
        "f(X0)"
      ],
      "execution_count": 9,
      "outputs": [
        {
          "output_type": "execute_result",
          "data": {
            "text/plain": [
              "401"
            ]
          },
          "metadata": {
            "tags": []
          },
          "execution_count": 9
        }
      ]
    },
    {
      "cell_type": "code",
      "metadata": {
        "colab": {
          "base_uri": "https://localhost:8080/"
        },
        "id": "mM7MCNgEB7mz",
        "outputId": "399f06c8-cd43-4467-a9ba-099985321eff"
      },
      "source": [
        "type(X0)"
      ],
      "execution_count": 10,
      "outputs": [
        {
          "output_type": "execute_result",
          "data": {
            "text/plain": [
              "list"
            ]
          },
          "metadata": {
            "tags": []
          },
          "execution_count": 10
        }
      ]
    },
    {
      "cell_type": "markdown",
      "metadata": {
        "id": "nD0OHMWTJhiw"
      },
      "source": [
        "## List operations (problems)"
      ]
    },
    {
      "cell_type": "code",
      "metadata": {
        "colab": {
          "base_uri": "https://localhost:8080/",
          "height": 201
        },
        "id": "lNBKKYSOErJt",
        "outputId": "6f341e9c-5451-4c86-bf2e-5d080e58a881"
      },
      "source": [
        "arr_1 = [1, 2, 3]\n",
        "arr_2 = [4, 5, 6]\n",
        "\n",
        "print(arr_1 * arr_2)"
      ],
      "execution_count": 11,
      "outputs": [
        {
          "output_type": "error",
          "ename": "TypeError",
          "evalue": "ignored",
          "traceback": [
            "\u001b[0;31m---------------------------------------------------------------------------\u001b[0m",
            "\u001b[0;31mTypeError\u001b[0m                                 Traceback (most recent call last)",
            "\u001b[0;32m<ipython-input-11-8ad65b6cf56a>\u001b[0m in \u001b[0;36m<module>\u001b[0;34m()\u001b[0m\n\u001b[1;32m      2\u001b[0m \u001b[0marr_2\u001b[0m \u001b[0;34m=\u001b[0m \u001b[0;34m[\u001b[0m\u001b[0;36m4\u001b[0m\u001b[0;34m,\u001b[0m \u001b[0;36m5\u001b[0m\u001b[0;34m,\u001b[0m \u001b[0;36m6\u001b[0m\u001b[0;34m]\u001b[0m\u001b[0;34m\u001b[0m\u001b[0;34m\u001b[0m\u001b[0m\n\u001b[1;32m      3\u001b[0m \u001b[0;34m\u001b[0m\u001b[0m\n\u001b[0;32m----> 4\u001b[0;31m \u001b[0mprint\u001b[0m\u001b[0;34m(\u001b[0m\u001b[0marr_1\u001b[0m \u001b[0;34m*\u001b[0m \u001b[0marr_2\u001b[0m\u001b[0;34m)\u001b[0m\u001b[0;34m\u001b[0m\u001b[0;34m\u001b[0m\u001b[0m\n\u001b[0m",
            "\u001b[0;31mTypeError\u001b[0m: can't multiply sequence by non-int of type 'list'"
          ]
        }
      ]
    },
    {
      "cell_type": "code",
      "metadata": {
        "colab": {
          "base_uri": "https://localhost:8080/",
          "height": 166
        },
        "id": "JS7xjyhPJmjg",
        "outputId": "82b01650-638e-40ce-8e8d-4177c93d5df9"
      },
      "source": [
        "arr_1**2"
      ],
      "execution_count": 12,
      "outputs": [
        {
          "output_type": "error",
          "ename": "TypeError",
          "evalue": "ignored",
          "traceback": [
            "\u001b[0;31m---------------------------------------------------------------------------\u001b[0m",
            "\u001b[0;31mTypeError\u001b[0m                                 Traceback (most recent call last)",
            "\u001b[0;32m<ipython-input-12-30c19fb8e903>\u001b[0m in \u001b[0;36m<module>\u001b[0;34m()\u001b[0m\n\u001b[0;32m----> 1\u001b[0;31m \u001b[0marr_1\u001b[0m\u001b[0;34m**\u001b[0m\u001b[0;36m2\u001b[0m\u001b[0;34m\u001b[0m\u001b[0;34m\u001b[0m\u001b[0m\n\u001b[0m",
            "\u001b[0;31mTypeError\u001b[0m: unsupported operand type(s) for ** or pow(): 'list' and 'int'"
          ]
        }
      ]
    },
    {
      "cell_type": "code",
      "metadata": {
        "colab": {
          "base_uri": "https://localhost:8080/"
        },
        "id": "h6eowEx_JrmA",
        "outputId": "49e4c0fd-4370-4c5b-c261-99c7aca90a5b"
      },
      "source": [
        "arr_1*3"
      ],
      "execution_count": 14,
      "outputs": [
        {
          "output_type": "execute_result",
          "data": {
            "text/plain": [
              "[1, 2, 3, 1, 2, 3, 1, 2, 3]"
            ]
          },
          "metadata": {
            "tags": []
          },
          "execution_count": 14
        }
      ]
    },
    {
      "cell_type": "markdown",
      "metadata": {
        "id": "H9IoRVnyv0ON"
      },
      "source": [
        "## Basic Array Operations\n",
        "\n",
        "* Element-Wise\n",
        "\n",
        "---\n",
        "```matlab\n",
        "% Matlab code\n",
        "arr_1 = [1,2,3];\n",
        "arr_2 = [4,5,6];\n",
        "arr_1 * arr_2\n",
        "\n",
        "Error using  *\n",
        "Incorrect dimensions for matrix multiplication. Check that the number of\n",
        "columns in the first matrix matches the number of rows in the second\n",
        "matrix. To perform elementwise multiplication, use '.*'.\n",
        "\n",
        "arr_1 .* arr_2\n",
        "\n",
        "ans =\n",
        "\n",
        "     4    10    18\n",
        "\n",
        "\n",
        "arr_1 * arr_2'\n",
        "\n",
        "ans =\n",
        "\n",
        "    32\n",
        "```"
      ]
    },
    {
      "cell_type": "code",
      "metadata": {
        "colab": {
          "base_uri": "https://localhost:8080/"
        },
        "id": "qThMzdDGwpC3",
        "outputId": "2193394f-c3ce-440c-b7b3-fecabd2c4947"
      },
      "source": [
        "import numpy as np\n",
        "\n",
        "arr_1 = np.array([1, 2, 3])\n",
        "arr_2 = np.array([4, 5, 6])\n",
        "\n",
        "print(arr_1 * arr_2)\n",
        "print(arr_1 @ arr_2)\n",
        "print(np.dot(arr_1, arr_2))"
      ],
      "execution_count": 15,
      "outputs": [
        {
          "output_type": "stream",
          "text": [
            "[ 4 10 18]\n",
            "32\n",
            "32\n"
          ],
          "name": "stdout"
        }
      ]
    },
    {
      "cell_type": "code",
      "metadata": {
        "colab": {
          "base_uri": "https://localhost:8080/"
        },
        "id": "yUfVdofeDLRq",
        "outputId": "4a77e2f6-f12b-4707-d293-6f1663d8e7b2"
      },
      "source": [
        "type(arr_1)"
      ],
      "execution_count": 19,
      "outputs": [
        {
          "output_type": "execute_result",
          "data": {
            "text/plain": [
              "numpy.ndarray"
            ]
          },
          "metadata": {
            "tags": []
          },
          "execution_count": 19
        }
      ]
    },
    {
      "cell_type": "markdown",
      "metadata": {
        "id": "SJI06IcHF4Pt"
      },
      "source": [
        "## Creating Arrays \n",
        "\n",
        "In MATLAB, you can use a colon to create an array specification range. In general, you can use up to 2 colons in a specification. The syntax is as follows:\n",
        "\n",
        "---\n",
        "start : stop\n",
        "\n",
        "start : step : stop\n",
        "\n",
        "---\n",
        "```matlab\n",
        "arr_1 = 1:6\n",
        "\n",
        "arr_1 =\n",
        "\n",
        "     1     2     3     4     5     6\n",
        "\n",
        "size(arr_1)\n",
        "\n",
        "ans =\n",
        "\n",
        "     1     6\n",
        "```\n",
        "\n",
        "There are three ways to use arange():\n",
        "\n",
        "---\n",
        "```python\n",
        "import numpy as np\n",
        "np.arange(stop)\n",
        "np.arange(start, stop)\n",
        "np.arange(start, stop, step)\n",
        "```\n"
      ]
    },
    {
      "cell_type": "code",
      "metadata": {
        "colab": {
          "base_uri": "https://localhost:8080/"
        },
        "id": "UPXUeoNeEy6M",
        "outputId": "e8c33e5b-e61d-41f4-a4a3-c2e31b25370e"
      },
      "source": [
        "import numpy as np\n",
        "\n",
        "# type 1\n",
        "arr_1 = np.arange(7)\n",
        "print(arr_1)\n",
        "print(arr_1.shape)\n",
        "\n",
        "# type 2\n",
        "arr_2 = np.arange(1, 7, 2)\n",
        "print(arr_2)\n",
        "\n",
        "# type 3\n",
        "arr_3 = np.arange(2, 7, 2)\n",
        "print(arr_3)"
      ],
      "execution_count": 20,
      "outputs": [
        {
          "output_type": "stream",
          "text": [
            "[0 1 2 3 4 5 6]\n",
            "(7,)\n",
            "[1 3 5]\n",
            "[2 4 6]\n"
          ],
          "name": "stdout"
        }
      ]
    },
    {
      "cell_type": "code",
      "metadata": {
        "colab": {
          "base_uri": "https://localhost:8080/"
        },
        "id": "ug2L0Z_iKX97",
        "outputId": "aa9819dd-1de2-45fd-e1a2-970bfc3b1fc1"
      },
      "source": [
        "print(arr_1)\n",
        "print(arr_1.shape)\n",
        "arr_1_T = arr_1.T\n",
        "print(arr_1_T)\n",
        "print(arr_1_T.shape)"
      ],
      "execution_count": 21,
      "outputs": [
        {
          "output_type": "stream",
          "text": [
            "[0 1 2 3 4 5 6]\n",
            "(7,)\n",
            "[0 1 2 3 4 5 6]\n",
            "(7,)\n"
          ],
          "name": "stdout"
        }
      ]
    },
    {
      "cell_type": "code",
      "metadata": {
        "colab": {
          "base_uri": "https://localhost:8080/"
        },
        "id": "BREAmx64NYtj",
        "outputId": "7e58d773-f944-4928-b1bf-1f39103069ee"
      },
      "source": [
        "res = arr_1 * arr_1\n",
        "print(res)\n",
        "print(res.shape)"
      ],
      "execution_count": 22,
      "outputs": [
        {
          "output_type": "stream",
          "text": [
            "[ 0  1  4  9 16 25 36]\n",
            "(7,)\n"
          ],
          "name": "stdout"
        }
      ]
    },
    {
      "cell_type": "code",
      "metadata": {
        "colab": {
          "base_uri": "https://localhost:8080/"
        },
        "id": "pvadHI0HKvHi",
        "outputId": "94e4e7c2-9407-4aa4-df97-b9012cadec48"
      },
      "source": [
        "arr_1 @ arr_1_T"
      ],
      "execution_count": 23,
      "outputs": [
        {
          "output_type": "execute_result",
          "data": {
            "text/plain": [
              "91"
            ]
          },
          "metadata": {
            "tags": []
          },
          "execution_count": 23
        }
      ]
    },
    {
      "cell_type": "code",
      "metadata": {
        "colab": {
          "base_uri": "https://localhost:8080/"
        },
        "id": "R1cBUdybK91B",
        "outputId": "bd1ea0db-d5e4-4f62-82ba-7cef582bf81a"
      },
      "source": [
        "arr_4 = np.expand_dims(arr_1, -1)\n",
        "print(arr_4.shape)\n",
        "\n",
        "arr_4_T = arr_4.T\n",
        "print(arr_4_T.shape)"
      ],
      "execution_count": 24,
      "outputs": [
        {
          "output_type": "stream",
          "text": [
            "(7, 1)\n",
            "(1, 7)\n"
          ],
          "name": "stdout"
        }
      ]
    },
    {
      "cell_type": "code",
      "metadata": {
        "colab": {
          "base_uri": "https://localhost:8080/"
        },
        "id": "sIpTUS7zLiN7",
        "outputId": "e684899b-67bd-466e-8bdc-016b8826108e"
      },
      "source": [
        "arr_4 @ arr_4_T"
      ],
      "execution_count": 25,
      "outputs": [
        {
          "output_type": "execute_result",
          "data": {
            "text/plain": [
              "array([[ 0,  0,  0,  0,  0,  0,  0],\n",
              "       [ 0,  1,  2,  3,  4,  5,  6],\n",
              "       [ 0,  2,  4,  6,  8, 10, 12],\n",
              "       [ 0,  3,  6,  9, 12, 15, 18],\n",
              "       [ 0,  4,  8, 12, 16, 20, 24],\n",
              "       [ 0,  5, 10, 15, 20, 25, 30],\n",
              "       [ 0,  6, 12, 18, 24, 30, 36]])"
            ]
          },
          "metadata": {
            "tags": []
          },
          "execution_count": 25
        }
      ]
    },
    {
      "cell_type": "code",
      "metadata": {
        "colab": {
          "base_uri": "https://localhost:8080/"
        },
        "id": "Tfk6Pvn3MCDd",
        "outputId": "50f68ed9-fb06-4b8b-a597-0c15b34b3016"
      },
      "source": [
        "arr_4.T @ arr_4"
      ],
      "execution_count": 26,
      "outputs": [
        {
          "output_type": "execute_result",
          "data": {
            "text/plain": [
              "array([[91]])"
            ]
          },
          "metadata": {
            "tags": []
          },
          "execution_count": 26
        }
      ]
    },
    {
      "cell_type": "code",
      "metadata": {
        "colab": {
          "base_uri": "https://localhost:8080/"
        },
        "id": "YqycJmpEL2We",
        "outputId": "a19a65da-9c8d-4907-95b6-105bef74f749"
      },
      "source": [
        "arr_5 = arr_4 * arr_4\n",
        "print(arr_5)\n",
        "print(arr_5.shape)"
      ],
      "execution_count": 27,
      "outputs": [
        {
          "output_type": "stream",
          "text": [
            "[[ 0]\n",
            " [ 1]\n",
            " [ 4]\n",
            " [ 9]\n",
            " [16]\n",
            " [25]\n",
            " [36]]\n",
            "(7, 1)\n"
          ],
          "name": "stdout"
        }
      ]
    },
    {
      "cell_type": "code",
      "metadata": {
        "id": "KmUsC-OMF184"
      },
      "source": [
        "a = np.arange(15).reshape(3, 5)\n",
        "n,m = a.shape"
      ],
      "execution_count": 47,
      "outputs": []
    },
    {
      "cell_type": "code",
      "metadata": {
        "colab": {
          "base_uri": "https://localhost:8080/"
        },
        "id": "UUl2IL6uGl-b",
        "outputId": "e5114983-354c-4f52-d945-28b1720d27ae"
      },
      "source": [
        "b = a.reshape(n*m,1)\n",
        "b.shape"
      ],
      "execution_count": 48,
      "outputs": [
        {
          "output_type": "execute_result",
          "data": {
            "text/plain": [
              "(15, 1)"
            ]
          },
          "metadata": {
            "tags": []
          },
          "execution_count": 48
        }
      ]
    },
    {
      "cell_type": "code",
      "metadata": {
        "colab": {
          "base_uri": "https://localhost:8080/"
        },
        "id": "-Dre5LDJHJLl",
        "outputId": "9010f34f-8b4c-4c12-810c-777c26267ed6"
      },
      "source": [
        "c = a.ravel()\n",
        "c.shape"
      ],
      "execution_count": 49,
      "outputs": [
        {
          "output_type": "execute_result",
          "data": {
            "text/plain": [
              "(15,)"
            ]
          },
          "metadata": {
            "tags": []
          },
          "execution_count": 49
        }
      ]
    }
  ]
}